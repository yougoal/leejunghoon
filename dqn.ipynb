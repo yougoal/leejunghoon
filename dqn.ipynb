{
  "nbformat": 4,
  "nbformat_minor": 0,
  "metadata": {
    "colab": {
      "name": "dqn.ipynb",
      "provenance": [],
      "collapsed_sections": [],
      "authorship_tag": "ABX9TyPLauCNy3TrnBdwFwkfwDBP",
      "include_colab_link": true
    },
    "kernelspec": {
      "name": "python3",
      "display_name": "Python 3"
    }
  },
  "cells": [
    {
      "cell_type": "markdown",
      "metadata": {
        "id": "view-in-github",
        "colab_type": "text"
      },
      "source": [
        "<a href=\"https://colab.research.google.com/github/yougoal/leejunghoon/blob/master/dqn.ipynb\" target=\"_parent\"><img src=\"https://colab.research.google.com/assets/colab-badge.svg\" alt=\"Open In Colab\"/></a>"
      ]
    },
    {
      "cell_type": "code",
      "metadata": {
        "id": "3J68tg0d9V94",
        "colab_type": "code",
        "colab": {
          "base_uri": "https://localhost:8080/",
          "height": 64
        },
        "outputId": "04c67bde-ef69-4aca-a275-ada201d2f29b"
      },
      "source": [
        "#참조: https://hunkim.github.io/ml/\n",
        "\n",
        "import numpy as np\n",
        "import tensorflow as tf\n",
        "\n",
        "class DQN:\n",
        "\n",
        "    def __init__(self, session, input_size, output_size, name=\"main\"):\n",
        "        self.session = session\n",
        "        self.input_size = input_size\n",
        "        self.output_size = output_size\n",
        "        self.net_name = name\n",
        "\n",
        "        self._build_network()\n",
        "\n",
        "    def _build_network(self, h_size=10, l_rate=1e-1):\n",
        "\n",
        "        with tf.variable_scope(self.net_name):\n",
        "            self._X = tf.placeholder(tf.float32, [None, self.input_size], name=\"input_x\")\n",
        "\n",
        "            W1 = tf.get_variable(\"W1\", shape = [self.input_size, h_size], initializer = tf.contrib.layers.xavier_initializer())\n",
        "\n",
        "            layer1 = tf.nn.tanh(tf.matmul(self._X, W1))\n",
        "\n",
        "            W2 = tf.get_variable(\"W2\", shape=[h_size, self.output_size], initializer = tf.contrib.layers.xavier_initializer())\n",
        "\n",
        "            self._Qpred = tf.matmul(layer1, W2)\n",
        "\n",
        "        self._Y = tf.placeholder(shape = [None, self.output_size], dtype = tf.float32)\n",
        "\n",
        "        self._loss = tf.reduce_mean(tf.square(self._Y - self._Qpred))\n",
        "\n",
        "        self._train = tf.train.AdamOptimizer(learning_rate=l_rate).minimize(self._loss)\n",
        "\n",
        "    def predict(self, state):\n",
        "        x = np.reshape(state, [1, self.input_size])\n",
        "        return self.session.run(self._Qpred, feed_dict={self._X: x})\n",
        "\n",
        "    def update(self, x_stack, y_stack):\n",
        "        return self.session.run([self._loss, self._train], feed_dict={self._X: x_stack, self._Y: y_stack})"
      ],
      "execution_count": 1,
      "outputs": [
        {
          "output_type": "display_data",
          "data": {
            "text/html": [
              "<p style=\"color: red;\">\n",
              "The default version of TensorFlow in Colab will soon switch to TensorFlow 2.x.<br>\n",
              "We recommend you <a href=\"https://www.tensorflow.org/guide/migrate\" target=\"_blank\">upgrade</a> now \n",
              "or ensure your notebook will continue to use TensorFlow 1.x via the <code>%tensorflow_version 1.x</code> magic:\n",
              "<a href=\"https://colab.research.google.com/notebooks/tensorflow_version.ipynb\" target=\"_blank\">more info</a>.</p>\n"
            ],
            "text/plain": [
              "<IPython.core.display.HTML object>"
            ]
          },
          "metadata": {
            "tags": []
          }
        }
      ]
    }
  ]
}