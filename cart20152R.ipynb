{
  "nbformat": 4,
  "nbformat_minor": 0,
  "metadata": {
    "colab": {
      "name": "Untitled3.ipynb",
      "provenance": [],
      "authorship_tag": "ABX9TyONmgdAFHGmD3VFdpyYIiiC",
      "include_colab_link": true
    },
    "kernelspec": {
      "name": "python3",
      "display_name": "Python 3"
    }
  },
  "cells": [
    {
      "cell_type": "markdown",
      "metadata": {
        "id": "view-in-github",
        "colab_type": "text"
      },
      "source": [
        "<a href=\"https://colab.research.google.com/github/yougoal/leejunghoon/blob/master/cart20152R.ipynb\" target=\"_parent\"><img src=\"https://colab.research.google.com/assets/colab-badge.svg\" alt=\"Open In Colab\"/></a>"
      ]
    },
    {
      "cell_type": "code",
      "metadata": {
        "id": "fnS-gBNB2XBS",
        "colab_type": "code",
        "outputId": "473b91d0-94ae-484f-82d6-ee1ac5bf6df6",
        "colab": {
          "base_uri": "https://localhost:8080/",
          "height": 658
        }
      },
      "source": [
        "#참조: https://hunkim.github.io/ml/\n",
        "#setup\n",
        "import numpy as np\n",
        "import tensorflow as tf\n",
        "import random\n",
        "from collections import deque\n",
        "\n",
        "import gym\n",
        "env = gym.make('CartPole-v0')\n",
        "\n",
        "input_size = env.observation_space.shape[0]\n",
        "output_size = env.action_space.n\n",
        "dis = 0.9\n",
        "REPLAY_MEMORY = 500\n",
        "class DQN:\n",
        "    def __init__(self, session, input_size, output_size, name=\"main\"):\n",
        "        self.session = session\n",
        "        self.input_size = input_size\n",
        "        self.output_size = output_size\n",
        "        self.net_name = name\n",
        "        self._build_network()\n",
        "    def _build_network(self, h_size=10, l_rate=1e-1):\n",
        "        with tf.variable_scope(self.net_name):\n",
        "            self._X = tf.placeholder(tf.float32, [None, self.input_size], name=\"input_x\")\n",
        "            W1 = tf.get_variable(\"W1\", shape = [self.input_size, h_size], initializer = tf.contrib.layers.xavier_initializer())\n",
        "            layer1 = tf.nn.tanh(tf.matmul(self._X, W1))\n",
        "            W2 = tf.get_variable(\"W2\", shape=[h_size, self.output_size], initializer = tf.contrib.layers.xavier_initializer())\n",
        "            self._Qpred = tf.matmul(layer1, W2)\n",
        "        self._Y = tf.placeholder(shape = [None, self.output_size], dtype = tf.float32)\n",
        "        self._loss = tf.reduce_mean(tf.square(self._Y - self._Qpred))\n",
        "        self._train = tf.train.AdamOptimizer(learning_rate=l_rate).minimize(self._loss)\n",
        "    def predict(self, state):\n",
        "        x = np.reshape(state, [1, self.input_size])\n",
        "        return self.session.run(self._Qpred, feed_dict={self._X: x})\n",
        "    def update(self, x_stack, y_stack):\n",
        "        return self.session.run([self._loss, self._train], feed_dict={self._X: x_stack, self._Y: y_stack})\n",
        "def replay_train(mainDQN, targetDQN, train_batch):\n",
        "    x_stack = np.empty(0).reshape(0, input_size)\n",
        "    y_stack = np.empty(0).reshape(0, output_size)\n",
        "    for state, action, reward, next_state, done in train_batch:\n",
        "        Q = mainDQN.predict(state)\n",
        "        if done:\n",
        "            Q[0, action] = reward\n",
        "        else:\n",
        "            Q[0, action] = reward + dis * np.max(targetDQN.predict(next_state))\n",
        "        y_stack = np.vstack([y_stack, Q])\n",
        "        x_stack = np.vstack([x_stack, state])\n",
        "    return mainDQN.update(x_stack, y_stack)\n",
        "def bot_play(mainDQN):\n",
        "    s = env.reset()\n",
        "    reward_sum = 0\n",
        "    while True:\n",
        "        #env.render()\n",
        "        a = np.argmax(mainDQN.predict(s))\n",
        "        s, reward, done, _ = env.step(a)\n",
        "        reward_sum += reward\n",
        "        if done:\n",
        "            print(\"Total score: {}\".format(reward_sum))\n",
        "            break\n",
        "def get_copy_var_ops(*, dest_scope_name=\"target\", src_scope_name=\"main\"):\n",
        "    op_holder = []\n",
        "    src_vals = tf.get_collection(tf.GraphKeys.TRAINABLE_VARIABLES, scope = src_scope_name)\n",
        "    dest_vals = tf.get_collection(tf.GraphKeys.TRAINABLE_VARIABLES, scope = dest_scope_name)\n",
        "\n",
        "    for src_vals, dest_vals in zip(src_vals, dest_vals):\n",
        "        op_holder.append(dest_vals.assign(src_vals.value()))\n",
        "    return op_holder\n",
        "print(\"이정훈4\")\n",
        "\n",
        "max_episodes = 10\n",
        "replay_buffer = deque()\n",
        "with tf.Session() as sess:\n",
        "    mainDQN = DQN(sess, input_size, output_size, name=\"main\")\n",
        "    targetDQN = DQN(sess, input_size, output_size, name=\"target\")\n",
        "    tf.global_variables_initializer().run()\n",
        "    copy_ops = get_copy_var_ops(dest_scope_name=\"target\", src_scope_name=\"main\")\n",
        "    sess.run(copy_ops)\n",
        "    for episode in range(max_episodes):\n",
        "        e = 1. / ((episode / 10) + 1)\n",
        "        done = False\n",
        "        step_count = 0\n",
        "\n",
        "        state = env.reset()\n",
        "        print(\"이정훈5\")\n",
        "        while not done:\n",
        "\n",
        "            if np.random.rand(1) < e :\n",
        "                action = env.action_space.sample()\n",
        "            else:\n",
        "                action = np.argmax(mainDQN.predict(state))\n",
        "\n",
        "            next_state, reward, done, _ = env.step(action)\n",
        "\n",
        "            if done:\n",
        "                reward = -100\n",
        "\n",
        "            replay_buffer.append((state, action, reward, next_state, done))\n",
        "\n",
        "            if len(replay_buffer) > REPLAY_MEMORY:\n",
        "                replay_buffer.popleft()\n",
        "\n",
        "            state = next_state\n",
        "            step_count += 1\n",
        "            if step_count > 10000:\n",
        "                break\n",
        "\n",
        "        print(\"episode: {}  step: {}\".format(episode, step_count))\n",
        "\n",
        "        if step_count > 10000:\n",
        "            pass\n",
        "\n",
        "        if episode % 10 == 1:\n",
        "            for _ in range(50):\n",
        "                minibatch = random.sample(replay_buffer, 10)\n",
        "                loss, _ = replay_train(mainDQN, targetDQN, minibatch)\n",
        "            print(\"Loss: \", loss)\n",
        "            sess.run(copy_ops)\n",
        "\n",
        "    bot_play(mainDQN)\n",
        "\n"
      ],
      "execution_count": 1,
      "outputs": [
        {
          "output_type": "display_data",
          "data": {
            "text/html": [
              "<p style=\"color: red;\">\n",
              "The default version of TensorFlow in Colab will soon switch to TensorFlow 2.x.<br>\n",
              "We recommend you <a href=\"https://www.tensorflow.org/guide/migrate\" target=\"_blank\">upgrade</a> now \n",
              "or ensure your notebook will continue to use TensorFlow 1.x via the <code>%tensorflow_version 1.x</code> magic:\n",
              "<a href=\"https://colab.research.google.com/notebooks/tensorflow_version.ipynb\" target=\"_blank\">more info</a>.</p>\n"
            ],
            "text/plain": [
              "<IPython.core.display.HTML object>"
            ]
          },
          "metadata": {
            "tags": []
          }
        },
        {
          "output_type": "stream",
          "text": [
            "이정훈4\n",
            "WARNING:tensorflow:\n",
            "The TensorFlow contrib module will not be included in TensorFlow 2.0.\n",
            "For more information, please see:\n",
            "  * https://github.com/tensorflow/community/blob/master/rfcs/20180907-contrib-sunset.md\n",
            "  * https://github.com/tensorflow/addons\n",
            "  * https://github.com/tensorflow/io (for I/O related ops)\n",
            "If you depend on functionality not listed there, please file an issue.\n",
            "\n"
          ],
          "name": "stdout"
        },
        {
          "output_type": "stream",
          "text": [
            "/usr/local/lib/python3.6/dist-packages/gym/logger.py:30: UserWarning: \u001b[33mWARN: Box bound precision lowered by casting to float32\u001b[0m\n",
            "  warnings.warn(colorize('%s: %s'%('WARN', msg % args), 'yellow'))\n"
          ],
          "name": "stderr"
        },
        {
          "output_type": "stream",
          "text": [
            "이정훈5\n",
            "episode: 0  step: 14\n",
            "이정훈5\n",
            "episode: 1  step: 18\n",
            "Loss:  12.13175\n",
            "이정훈5\n",
            "episode: 2  step: 20\n",
            "이정훈5\n",
            "episode: 3  step: 100\n",
            "이정훈5\n",
            "episode: 4  step: 36\n",
            "이정훈5\n",
            "episode: 5  step: 24\n",
            "이정훈5\n",
            "episode: 6  step: 56\n",
            "이정훈5\n",
            "episode: 7  step: 70\n",
            "이정훈5\n",
            "episode: 8  step: 61\n",
            "이정훈5\n",
            "episode: 9  step: 109\n",
            "Total score: 177.0\n"
          ],
          "name": "stdout"
        }
      ]
    }
  ]
}